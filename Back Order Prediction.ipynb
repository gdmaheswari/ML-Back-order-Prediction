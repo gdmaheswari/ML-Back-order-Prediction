{
 "cells": [
  {
   "cell_type": "code",
   "execution_count": 2,
   "metadata": {},
   "outputs": [],
   "source": [
    "import pandas as pd\n",
    "import numpy as np\n",
    "import matplotlib.pyplot as plt\n",
    "import seaborn as sns\n",
    "import sklearn\n",
    "from sklearn.impute import SimpleImputer\n",
    "%matplotlib inline \n",
    "sns.set()"
   ]
  },
  {
   "cell_type": "code",
   "execution_count": 3,
   "metadata": {},
   "outputs": [],
   "source": [
    "Order = pd.read_csv('Training_Dataset_v2.csv',low_memory=False)"
   ]
  },
  {
   "cell_type": "code",
   "execution_count": 4,
   "metadata": {},
   "outputs": [
    {
     "data": {
      "text/plain": [
       "(1687861, 23)"
      ]
     },
     "execution_count": 4,
     "metadata": {},
     "output_type": "execute_result"
    }
   ],
   "source": [
    "Order.shape"
   ]
  },
  {
   "cell_type": "code",
   "execution_count": 80,
   "metadata": {
    "scrolled": true
   },
   "outputs": [
    {
     "name": "stdout",
     "output_type": "stream",
     "text": [
      "<class 'pandas.core.frame.DataFrame'>\n",
      "Int64Index: 1687860 entries, 0 to 1687859\n",
      "Data columns (total 23 columns):\n",
      " #   Column             Non-Null Count    Dtype  \n",
      "---  ------             --------------    -----  \n",
      " 0   sku                1687860 non-null  object \n",
      " 1   national_inv       1687860 non-null  float64\n",
      " 2   lead_time          1687860 non-null  int32  \n",
      " 3   in_transit_qty     1687860 non-null  float64\n",
      " 4   forecast_3_month   1687860 non-null  float64\n",
      " 5   forecast_6_month   1687860 non-null  float64\n",
      " 6   forecast_9_month   1687860 non-null  float64\n",
      " 7   sales_1_month      1687860 non-null  float64\n",
      " 8   sales_3_month      1687860 non-null  float64\n",
      " 9   sales_6_month      1687860 non-null  float64\n",
      " 10  sales_9_month      1687860 non-null  float64\n",
      " 11  min_bank           1687860 non-null  float64\n",
      " 12  potential_issue    1687860 non-null  int64  \n",
      " 13  pieces_past_due    1687860 non-null  float64\n",
      " 14  perf_6_month_avg   1687860 non-null  float64\n",
      " 15  perf_12_month_avg  1687860 non-null  float64\n",
      " 16  local_bo_qty       1687860 non-null  float64\n",
      " 17  deck_risk          1687860 non-null  int64  \n",
      " 18  oe_constraint      1687860 non-null  int64  \n",
      " 19  ppap_risk          1687860 non-null  int64  \n",
      " 20  stop_auto_buy      1687860 non-null  int64  \n",
      " 21  rev_stop           1687860 non-null  int64  \n",
      " 22  went_on_backorder  1687860 non-null  int64  \n",
      "dtypes: float64(14), int32(1), int64(7), object(1)\n",
      "memory usage: 302.6+ MB\n"
     ]
    }
   ],
   "source": [
    "Order.info()"
   ]
  },
  {
   "cell_type": "code",
   "execution_count": 6,
   "metadata": {},
   "outputs": [
    {
     "data": {
      "text/plain": [
       "sku                       0\n",
       "national_inv              1\n",
       "lead_time            100894\n",
       "in_transit_qty            1\n",
       "forecast_3_month          1\n",
       "forecast_6_month          1\n",
       "forecast_9_month          1\n",
       "sales_1_month             1\n",
       "sales_3_month             1\n",
       "sales_6_month             1\n",
       "sales_9_month             1\n",
       "min_bank                  1\n",
       "potential_issue           1\n",
       "pieces_past_due           1\n",
       "perf_6_month_avg          1\n",
       "perf_12_month_avg         1\n",
       "local_bo_qty              1\n",
       "deck_risk                 1\n",
       "oe_constraint             1\n",
       "ppap_risk                 1\n",
       "stop_auto_buy             1\n",
       "rev_stop                  1\n",
       "went_on_backorder         1\n",
       "dtype: int64"
      ]
     },
     "execution_count": 6,
     "metadata": {},
     "output_type": "execute_result"
    }
   ],
   "source": [
    "Order.isna().sum()"
   ]
  },
  {
   "cell_type": "code",
   "execution_count": 83,
   "metadata": {},
   "outputs": [
    {
     "data": {
      "text/html": [
       "<div>\n",
       "<style scoped>\n",
       "    .dataframe tbody tr th:only-of-type {\n",
       "        vertical-align: middle;\n",
       "    }\n",
       "\n",
       "    .dataframe tbody tr th {\n",
       "        vertical-align: top;\n",
       "    }\n",
       "\n",
       "    .dataframe thead th {\n",
       "        text-align: right;\n",
       "    }\n",
       "</style>\n",
       "<table border=\"1\" class=\"dataframe\">\n",
       "  <thead>\n",
       "    <tr style=\"text-align: right;\">\n",
       "      <th></th>\n",
       "      <th>sku</th>\n",
       "      <th>national_inv</th>\n",
       "      <th>lead_time</th>\n",
       "      <th>in_transit_qty</th>\n",
       "      <th>forecast_3_month</th>\n",
       "      <th>forecast_6_month</th>\n",
       "      <th>forecast_9_month</th>\n",
       "      <th>sales_1_month</th>\n",
       "      <th>sales_3_month</th>\n",
       "      <th>sales_6_month</th>\n",
       "      <th>...</th>\n",
       "      <th>pieces_past_due</th>\n",
       "      <th>perf_6_month_avg</th>\n",
       "      <th>perf_12_month_avg</th>\n",
       "      <th>local_bo_qty</th>\n",
       "      <th>deck_risk</th>\n",
       "      <th>oe_constraint</th>\n",
       "      <th>ppap_risk</th>\n",
       "      <th>stop_auto_buy</th>\n",
       "      <th>rev_stop</th>\n",
       "      <th>went_on_backorder</th>\n",
       "    </tr>\n",
       "  </thead>\n",
       "  <tbody>\n",
       "    <tr>\n",
       "      <th>0</th>\n",
       "      <td>1026827</td>\n",
       "      <td>0.0</td>\n",
       "      <td>7</td>\n",
       "      <td>0.0</td>\n",
       "      <td>0.0</td>\n",
       "      <td>0.0</td>\n",
       "      <td>0.0</td>\n",
       "      <td>0.0</td>\n",
       "      <td>0.0</td>\n",
       "      <td>0.0</td>\n",
       "      <td>...</td>\n",
       "      <td>0.0</td>\n",
       "      <td>-99.00</td>\n",
       "      <td>-99.00</td>\n",
       "      <td>0.0</td>\n",
       "      <td>1</td>\n",
       "      <td>1</td>\n",
       "      <td>1</td>\n",
       "      <td>0</td>\n",
       "      <td>1</td>\n",
       "      <td>1</td>\n",
       "    </tr>\n",
       "    <tr>\n",
       "      <th>1</th>\n",
       "      <td>1043384</td>\n",
       "      <td>2.0</td>\n",
       "      <td>9</td>\n",
       "      <td>0.0</td>\n",
       "      <td>0.0</td>\n",
       "      <td>0.0</td>\n",
       "      <td>0.0</td>\n",
       "      <td>0.0</td>\n",
       "      <td>0.0</td>\n",
       "      <td>0.0</td>\n",
       "      <td>...</td>\n",
       "      <td>0.0</td>\n",
       "      <td>0.99</td>\n",
       "      <td>0.99</td>\n",
       "      <td>0.0</td>\n",
       "      <td>1</td>\n",
       "      <td>1</td>\n",
       "      <td>1</td>\n",
       "      <td>0</td>\n",
       "      <td>1</td>\n",
       "      <td>1</td>\n",
       "    </tr>\n",
       "    <tr>\n",
       "      <th>2</th>\n",
       "      <td>1043696</td>\n",
       "      <td>2.0</td>\n",
       "      <td>7</td>\n",
       "      <td>0.0</td>\n",
       "      <td>0.0</td>\n",
       "      <td>0.0</td>\n",
       "      <td>0.0</td>\n",
       "      <td>0.0</td>\n",
       "      <td>0.0</td>\n",
       "      <td>0.0</td>\n",
       "      <td>...</td>\n",
       "      <td>0.0</td>\n",
       "      <td>-99.00</td>\n",
       "      <td>-99.00</td>\n",
       "      <td>0.0</td>\n",
       "      <td>0</td>\n",
       "      <td>1</td>\n",
       "      <td>1</td>\n",
       "      <td>0</td>\n",
       "      <td>1</td>\n",
       "      <td>1</td>\n",
       "    </tr>\n",
       "    <tr>\n",
       "      <th>3</th>\n",
       "      <td>1043852</td>\n",
       "      <td>7.0</td>\n",
       "      <td>8</td>\n",
       "      <td>0.0</td>\n",
       "      <td>0.0</td>\n",
       "      <td>0.0</td>\n",
       "      <td>0.0</td>\n",
       "      <td>0.0</td>\n",
       "      <td>0.0</td>\n",
       "      <td>0.0</td>\n",
       "      <td>...</td>\n",
       "      <td>0.0</td>\n",
       "      <td>0.10</td>\n",
       "      <td>0.13</td>\n",
       "      <td>0.0</td>\n",
       "      <td>1</td>\n",
       "      <td>1</td>\n",
       "      <td>1</td>\n",
       "      <td>0</td>\n",
       "      <td>1</td>\n",
       "      <td>1</td>\n",
       "    </tr>\n",
       "    <tr>\n",
       "      <th>4</th>\n",
       "      <td>1044048</td>\n",
       "      <td>8.0</td>\n",
       "      <td>7</td>\n",
       "      <td>0.0</td>\n",
       "      <td>0.0</td>\n",
       "      <td>0.0</td>\n",
       "      <td>0.0</td>\n",
       "      <td>0.0</td>\n",
       "      <td>0.0</td>\n",
       "      <td>0.0</td>\n",
       "      <td>...</td>\n",
       "      <td>0.0</td>\n",
       "      <td>-99.00</td>\n",
       "      <td>-99.00</td>\n",
       "      <td>0.0</td>\n",
       "      <td>0</td>\n",
       "      <td>1</td>\n",
       "      <td>1</td>\n",
       "      <td>0</td>\n",
       "      <td>1</td>\n",
       "      <td>1</td>\n",
       "    </tr>\n",
       "  </tbody>\n",
       "</table>\n",
       "<p>5 rows × 23 columns</p>\n",
       "</div>"
      ],
      "text/plain": [
       "       sku  national_inv  lead_time  in_transit_qty  forecast_3_month  \\\n",
       "0  1026827           0.0          7             0.0               0.0   \n",
       "1  1043384           2.0          9             0.0               0.0   \n",
       "2  1043696           2.0          7             0.0               0.0   \n",
       "3  1043852           7.0          8             0.0               0.0   \n",
       "4  1044048           8.0          7             0.0               0.0   \n",
       "\n",
       "   forecast_6_month  forecast_9_month  sales_1_month  sales_3_month  \\\n",
       "0               0.0               0.0            0.0            0.0   \n",
       "1               0.0               0.0            0.0            0.0   \n",
       "2               0.0               0.0            0.0            0.0   \n",
       "3               0.0               0.0            0.0            0.0   \n",
       "4               0.0               0.0            0.0            0.0   \n",
       "\n",
       "   sales_6_month  ...  pieces_past_due  perf_6_month_avg  perf_12_month_avg  \\\n",
       "0            0.0  ...              0.0            -99.00             -99.00   \n",
       "1            0.0  ...              0.0              0.99               0.99   \n",
       "2            0.0  ...              0.0            -99.00             -99.00   \n",
       "3            0.0  ...              0.0              0.10               0.13   \n",
       "4            0.0  ...              0.0            -99.00             -99.00   \n",
       "\n",
       "   local_bo_qty  deck_risk  oe_constraint  ppap_risk  stop_auto_buy  rev_stop  \\\n",
       "0           0.0          1              1          1              0         1   \n",
       "1           0.0          1              1          1              0         1   \n",
       "2           0.0          0              1          1              0         1   \n",
       "3           0.0          1              1          1              0         1   \n",
       "4           0.0          0              1          1              0         1   \n",
       "\n",
       "   went_on_backorder  \n",
       "0                  1  \n",
       "1                  1  \n",
       "2                  1  \n",
       "3                  1  \n",
       "4                  1  \n",
       "\n",
       "[5 rows x 23 columns]"
      ]
     },
     "execution_count": 83,
     "metadata": {},
     "output_type": "execute_result"
    }
   ],
   "source": [
    "Order.head()"
   ]
  },
  {
   "cell_type": "code",
   "execution_count": 7,
   "metadata": {},
   "outputs": [
    {
     "data": {
      "text/plain": [
       "array(['No', 'Yes', nan], dtype=object)"
      ]
     },
     "execution_count": 7,
     "metadata": {},
     "output_type": "execute_result"
    }
   ],
   "source": [
    "Order[\"went_on_backorder\"].unique()"
   ]
  },
  {
   "cell_type": "code",
   "execution_count": 8,
   "metadata": {},
   "outputs": [
    {
     "data": {
      "text/plain": [
       "Index(['sku', 'national_inv', 'lead_time', 'in_transit_qty',\n",
       "       'forecast_3_month', 'forecast_6_month', 'forecast_9_month',\n",
       "       'sales_1_month', 'sales_3_month', 'sales_6_month', 'sales_9_month',\n",
       "       'min_bank', 'potential_issue', 'pieces_past_due', 'perf_6_month_avg',\n",
       "       'perf_12_month_avg', 'local_bo_qty', 'deck_risk', 'oe_constraint',\n",
       "       'ppap_risk', 'stop_auto_buy', 'rev_stop', 'went_on_backorder'],\n",
       "      dtype='object')"
      ]
     },
     "execution_count": 8,
     "metadata": {},
     "output_type": "execute_result"
    }
   ],
   "source": [
    "Order.columns"
   ]
  },
  {
   "cell_type": "code",
   "execution_count": 9,
   "metadata": {
    "scrolled": true
   },
   "outputs": [
    {
     "data": {
      "text/html": [
       "<div>\n",
       "<style scoped>\n",
       "    .dataframe tbody tr th:only-of-type {\n",
       "        vertical-align: middle;\n",
       "    }\n",
       "\n",
       "    .dataframe tbody tr th {\n",
       "        vertical-align: top;\n",
       "    }\n",
       "\n",
       "    .dataframe thead th {\n",
       "        text-align: right;\n",
       "    }\n",
       "</style>\n",
       "<table border=\"1\" class=\"dataframe\">\n",
       "  <thead>\n",
       "    <tr style=\"text-align: right;\">\n",
       "      <th></th>\n",
       "      <th>national_inv</th>\n",
       "      <th>lead_time</th>\n",
       "      <th>in_transit_qty</th>\n",
       "      <th>forecast_3_month</th>\n",
       "      <th>forecast_6_month</th>\n",
       "      <th>forecast_9_month</th>\n",
       "      <th>sales_1_month</th>\n",
       "      <th>sales_3_month</th>\n",
       "      <th>sales_6_month</th>\n",
       "      <th>sales_9_month</th>\n",
       "      <th>min_bank</th>\n",
       "      <th>pieces_past_due</th>\n",
       "      <th>perf_6_month_avg</th>\n",
       "      <th>perf_12_month_avg</th>\n",
       "      <th>local_bo_qty</th>\n",
       "    </tr>\n",
       "  </thead>\n",
       "  <tbody>\n",
       "    <tr>\n",
       "      <th>count</th>\n",
       "      <td>1.687860e+06</td>\n",
       "      <td>1.586967e+06</td>\n",
       "      <td>1.687860e+06</td>\n",
       "      <td>1.687860e+06</td>\n",
       "      <td>1.687860e+06</td>\n",
       "      <td>1.687860e+06</td>\n",
       "      <td>1.687860e+06</td>\n",
       "      <td>1.687860e+06</td>\n",
       "      <td>1.687860e+06</td>\n",
       "      <td>1.687860e+06</td>\n",
       "      <td>1.687860e+06</td>\n",
       "      <td>1.687860e+06</td>\n",
       "      <td>1.687860e+06</td>\n",
       "      <td>1.687860e+06</td>\n",
       "      <td>1.687860e+06</td>\n",
       "    </tr>\n",
       "    <tr>\n",
       "      <th>mean</th>\n",
       "      <td>4.961118e+02</td>\n",
       "      <td>7.872267e+00</td>\n",
       "      <td>4.405202e+01</td>\n",
       "      <td>1.781193e+02</td>\n",
       "      <td>3.449867e+02</td>\n",
       "      <td>5.063644e+02</td>\n",
       "      <td>5.592607e+01</td>\n",
       "      <td>1.750259e+02</td>\n",
       "      <td>3.417288e+02</td>\n",
       "      <td>5.252697e+02</td>\n",
       "      <td>5.277230e+01</td>\n",
       "      <td>2.043724e+00</td>\n",
       "      <td>-6.872059e+00</td>\n",
       "      <td>-6.437947e+00</td>\n",
       "      <td>6.264507e-01</td>\n",
       "    </tr>\n",
       "    <tr>\n",
       "      <th>std</th>\n",
       "      <td>2.961523e+04</td>\n",
       "      <td>7.056024e+00</td>\n",
       "      <td>1.342742e+03</td>\n",
       "      <td>5.026553e+03</td>\n",
       "      <td>9.795152e+03</td>\n",
       "      <td>1.437892e+04</td>\n",
       "      <td>1.928196e+03</td>\n",
       "      <td>5.192378e+03</td>\n",
       "      <td>9.613167e+03</td>\n",
       "      <td>1.483861e+04</td>\n",
       "      <td>1.254983e+03</td>\n",
       "      <td>2.360165e+02</td>\n",
       "      <td>2.655636e+01</td>\n",
       "      <td>2.584333e+01</td>\n",
       "      <td>3.372224e+01</td>\n",
       "    </tr>\n",
       "    <tr>\n",
       "      <th>min</th>\n",
       "      <td>-2.725600e+04</td>\n",
       "      <td>0.000000e+00</td>\n",
       "      <td>0.000000e+00</td>\n",
       "      <td>0.000000e+00</td>\n",
       "      <td>0.000000e+00</td>\n",
       "      <td>0.000000e+00</td>\n",
       "      <td>0.000000e+00</td>\n",
       "      <td>0.000000e+00</td>\n",
       "      <td>0.000000e+00</td>\n",
       "      <td>0.000000e+00</td>\n",
       "      <td>0.000000e+00</td>\n",
       "      <td>0.000000e+00</td>\n",
       "      <td>-9.900000e+01</td>\n",
       "      <td>-9.900000e+01</td>\n",
       "      <td>0.000000e+00</td>\n",
       "    </tr>\n",
       "    <tr>\n",
       "      <th>25%</th>\n",
       "      <td>4.000000e+00</td>\n",
       "      <td>4.000000e+00</td>\n",
       "      <td>0.000000e+00</td>\n",
       "      <td>0.000000e+00</td>\n",
       "      <td>0.000000e+00</td>\n",
       "      <td>0.000000e+00</td>\n",
       "      <td>0.000000e+00</td>\n",
       "      <td>0.000000e+00</td>\n",
       "      <td>0.000000e+00</td>\n",
       "      <td>0.000000e+00</td>\n",
       "      <td>0.000000e+00</td>\n",
       "      <td>0.000000e+00</td>\n",
       "      <td>6.300000e-01</td>\n",
       "      <td>6.600000e-01</td>\n",
       "      <td>0.000000e+00</td>\n",
       "    </tr>\n",
       "    <tr>\n",
       "      <th>50%</th>\n",
       "      <td>1.500000e+01</td>\n",
       "      <td>8.000000e+00</td>\n",
       "      <td>0.000000e+00</td>\n",
       "      <td>0.000000e+00</td>\n",
       "      <td>0.000000e+00</td>\n",
       "      <td>0.000000e+00</td>\n",
       "      <td>0.000000e+00</td>\n",
       "      <td>1.000000e+00</td>\n",
       "      <td>2.000000e+00</td>\n",
       "      <td>4.000000e+00</td>\n",
       "      <td>0.000000e+00</td>\n",
       "      <td>0.000000e+00</td>\n",
       "      <td>8.200000e-01</td>\n",
       "      <td>8.100000e-01</td>\n",
       "      <td>0.000000e+00</td>\n",
       "    </tr>\n",
       "    <tr>\n",
       "      <th>75%</th>\n",
       "      <td>8.000000e+01</td>\n",
       "      <td>9.000000e+00</td>\n",
       "      <td>0.000000e+00</td>\n",
       "      <td>4.000000e+00</td>\n",
       "      <td>1.200000e+01</td>\n",
       "      <td>2.000000e+01</td>\n",
       "      <td>4.000000e+00</td>\n",
       "      <td>1.500000e+01</td>\n",
       "      <td>3.100000e+01</td>\n",
       "      <td>4.700000e+01</td>\n",
       "      <td>3.000000e+00</td>\n",
       "      <td>0.000000e+00</td>\n",
       "      <td>9.700000e-01</td>\n",
       "      <td>9.500000e-01</td>\n",
       "      <td>0.000000e+00</td>\n",
       "    </tr>\n",
       "    <tr>\n",
       "      <th>max</th>\n",
       "      <td>1.233440e+07</td>\n",
       "      <td>5.200000e+01</td>\n",
       "      <td>4.894080e+05</td>\n",
       "      <td>1.427612e+06</td>\n",
       "      <td>2.461360e+06</td>\n",
       "      <td>3.777304e+06</td>\n",
       "      <td>7.417740e+05</td>\n",
       "      <td>1.105478e+06</td>\n",
       "      <td>2.146625e+06</td>\n",
       "      <td>3.205172e+06</td>\n",
       "      <td>3.133190e+05</td>\n",
       "      <td>1.464960e+05</td>\n",
       "      <td>1.000000e+00</td>\n",
       "      <td>1.000000e+00</td>\n",
       "      <td>1.253000e+04</td>\n",
       "    </tr>\n",
       "  </tbody>\n",
       "</table>\n",
       "</div>"
      ],
      "text/plain": [
       "       national_inv     lead_time  in_transit_qty  forecast_3_month  \\\n",
       "count  1.687860e+06  1.586967e+06    1.687860e+06      1.687860e+06   \n",
       "mean   4.961118e+02  7.872267e+00    4.405202e+01      1.781193e+02   \n",
       "std    2.961523e+04  7.056024e+00    1.342742e+03      5.026553e+03   \n",
       "min   -2.725600e+04  0.000000e+00    0.000000e+00      0.000000e+00   \n",
       "25%    4.000000e+00  4.000000e+00    0.000000e+00      0.000000e+00   \n",
       "50%    1.500000e+01  8.000000e+00    0.000000e+00      0.000000e+00   \n",
       "75%    8.000000e+01  9.000000e+00    0.000000e+00      4.000000e+00   \n",
       "max    1.233440e+07  5.200000e+01    4.894080e+05      1.427612e+06   \n",
       "\n",
       "       forecast_6_month  forecast_9_month  sales_1_month  sales_3_month  \\\n",
       "count      1.687860e+06      1.687860e+06   1.687860e+06   1.687860e+06   \n",
       "mean       3.449867e+02      5.063644e+02   5.592607e+01   1.750259e+02   \n",
       "std        9.795152e+03      1.437892e+04   1.928196e+03   5.192378e+03   \n",
       "min        0.000000e+00      0.000000e+00   0.000000e+00   0.000000e+00   \n",
       "25%        0.000000e+00      0.000000e+00   0.000000e+00   0.000000e+00   \n",
       "50%        0.000000e+00      0.000000e+00   0.000000e+00   1.000000e+00   \n",
       "75%        1.200000e+01      2.000000e+01   4.000000e+00   1.500000e+01   \n",
       "max        2.461360e+06      3.777304e+06   7.417740e+05   1.105478e+06   \n",
       "\n",
       "       sales_6_month  sales_9_month      min_bank  pieces_past_due  \\\n",
       "count   1.687860e+06   1.687860e+06  1.687860e+06     1.687860e+06   \n",
       "mean    3.417288e+02   5.252697e+02  5.277230e+01     2.043724e+00   \n",
       "std     9.613167e+03   1.483861e+04  1.254983e+03     2.360165e+02   \n",
       "min     0.000000e+00   0.000000e+00  0.000000e+00     0.000000e+00   \n",
       "25%     0.000000e+00   0.000000e+00  0.000000e+00     0.000000e+00   \n",
       "50%     2.000000e+00   4.000000e+00  0.000000e+00     0.000000e+00   \n",
       "75%     3.100000e+01   4.700000e+01  3.000000e+00     0.000000e+00   \n",
       "max     2.146625e+06   3.205172e+06  3.133190e+05     1.464960e+05   \n",
       "\n",
       "       perf_6_month_avg  perf_12_month_avg  local_bo_qty  \n",
       "count      1.687860e+06       1.687860e+06  1.687860e+06  \n",
       "mean      -6.872059e+00      -6.437947e+00  6.264507e-01  \n",
       "std        2.655636e+01       2.584333e+01  3.372224e+01  \n",
       "min       -9.900000e+01      -9.900000e+01  0.000000e+00  \n",
       "25%        6.300000e-01       6.600000e-01  0.000000e+00  \n",
       "50%        8.200000e-01       8.100000e-01  0.000000e+00  \n",
       "75%        9.700000e-01       9.500000e-01  0.000000e+00  \n",
       "max        1.000000e+00       1.000000e+00  1.253000e+04  "
      ]
     },
     "execution_count": 9,
     "metadata": {},
     "output_type": "execute_result"
    }
   ],
   "source": [
    "Order.describe()"
   ]
  },
  {
   "cell_type": "code",
   "execution_count": 10,
   "metadata": {},
   "outputs": [],
   "source": [
    "imputer = SimpleImputer(missing_values= np.nan, strategy='mean')\n",
    "Order[\"lead_time\"]=imputer.fit_transform(Order[[\"lead_time\"]])"
   ]
  },
  {
   "cell_type": "code",
   "execution_count": 11,
   "metadata": {},
   "outputs": [],
   "source": [
    "# deleting entire row for all null values(based on index axis=0)\n",
    "Order = Order.dropna() "
   ]
  },
  {
   "cell_type": "code",
   "execution_count": 12,
   "metadata": {},
   "outputs": [],
   "source": [
    "Order[\"lead_time\"]=Order[\"lead_time\"].astype('int')"
   ]
  },
  {
   "cell_type": "code",
   "execution_count": 13,
   "metadata": {},
   "outputs": [
    {
     "data": {
      "text/plain": [
       "<seaborn.axisgrid.FacetGrid at 0x18680d539c8>"
      ]
     },
     "execution_count": 13,
     "metadata": {},
     "output_type": "execute_result"
    },
    {
     "data": {
      "image/png": "[encoded data removed]",
      "text/plain": [
       "<Figure size 432x216 with 2 Axes>"
      ]
     },
     "metadata": {},
     "output_type": "display_data"
    }
   ],
   "source": [
    "g = sns.FacetGrid(Order, col='went_on_backorder')\n",
    "g.map(plt.hist, 'perf_12_month_avg', bins=20)"
   ]
  },
  {
   "cell_type": "code",
   "execution_count": 14,
   "metadata": {},
   "outputs": [],
   "source": [
    "catg_fea =[\"potential_issue\",\"deck_risk\",\"oe_constraint\",\"ppap_risk\",\"stop_auto_buy\",\"rev_stop\",\"went_on_backorder\"]"
   ]
  },
  {
   "cell_type": "code",
   "execution_count": 15,
   "metadata": {},
   "outputs": [
    {
     "name": "stdout",
     "output_type": "stream",
     "text": [
      "['No' 'Yes']\n",
      "['No' 'Yes']\n",
      "['No' 'Yes']\n",
      "['No' 'Yes']\n",
      "['Yes' 'No']\n",
      "['No' 'Yes']\n",
      "['No' 'Yes']\n"
     ]
    }
   ],
   "source": [
    "for col in catg_fea:\n",
    "    print(Order[col].unique())"
   ]
  },
  {
   "cell_type": "code",
   "execution_count": 16,
   "metadata": {},
   "outputs": [],
   "source": [
    "#encoding categorical values\n",
    "for col in catg_fea:\n",
    "    Order[col] = Order[col].map({\"Yes\" : 0, \"No\" : 1})"
   ]
  },
  {
   "cell_type": "code",
   "execution_count": 17,
   "metadata": {},
   "outputs": [],
   "source": [
    "X = Order.drop([\"went_on_backorder\",\"sku\"],axis=1)"
   ]
  },
  {
   "cell_type": "code",
   "execution_count": 18,
   "metadata": {},
   "outputs": [],
   "source": [
    "y = Order[\"went_on_backorder\"]"
   ]
  },
  {
   "cell_type": "code",
   "execution_count": 81,
   "metadata": {},
   "outputs": [
    {
     "data": {
      "text/plain": [
       "1    0.993309\n",
       "0    0.006691\n",
       "Name: went_on_backorder, dtype: float64"
      ]
     },
     "execution_count": 81,
     "metadata": {},
     "output_type": "execute_result"
    }
   ],
   "source": [
    "y.value_counts()"
   ]
  },
  {
   "cell_type": "code",
   "execution_count": 20,
   "metadata": {},
   "outputs": [
    {
     "data": {
      "text/plain": [
       "<matplotlib.axes._subplots.AxesSubplot at 0x1868007d188>"
      ]
     },
     "execution_count": 20,
     "metadata": {},
     "output_type": "execute_result"
    },
    {
     "data": {
      "image/png": "[encoded data removed]",
      "text/plain": [
       "<Figure size 432x288 with 1 Axes>"
      ]
     },
     "metadata": {},
     "output_type": "display_data"
    }
   ],
   "source": [
    "sns.countplot(y, color='gray')"
   ]
  },
  {
   "cell_type": "code",
   "execution_count": 21,
   "metadata": {},
   "outputs": [],
   "source": [
    "# Filtering duplicate rows in given varaible\n",
    "duplicate = Order[Order.duplicated()]"
   ]
  },
  {
   "cell_type": "code",
   "execution_count": 22,
   "metadata": {},
   "outputs": [
    {
     "data": {
      "text/html": [
       "<div>\n",
       "<style scoped>\n",
       "    .dataframe tbody tr th:only-of-type {\n",
       "        vertical-align: middle;\n",
       "    }\n",
       "\n",
       "    .dataframe tbody tr th {\n",
       "        vertical-align: top;\n",
       "    }\n",
       "\n",
       "    .dataframe thead th {\n",
       "        text-align: right;\n",
       "    }\n",
       "</style>\n",
       "<table border=\"1\" class=\"dataframe\">\n",
       "  <thead>\n",
       "    <tr style=\"text-align: right;\">\n",
       "      <th></th>\n",
       "      <th>national_inv</th>\n",
       "      <th>lead_time</th>\n",
       "      <th>in_transit_qty</th>\n",
       "      <th>forecast_3_month</th>\n",
       "      <th>forecast_6_month</th>\n",
       "      <th>forecast_9_month</th>\n",
       "      <th>sales_1_month</th>\n",
       "      <th>sales_3_month</th>\n",
       "      <th>sales_6_month</th>\n",
       "      <th>sales_9_month</th>\n",
       "      <th>...</th>\n",
       "      <th>potential_issue</th>\n",
       "      <th>pieces_past_due</th>\n",
       "      <th>perf_6_month_avg</th>\n",
       "      <th>perf_12_month_avg</th>\n",
       "      <th>local_bo_qty</th>\n",
       "      <th>deck_risk</th>\n",
       "      <th>oe_constraint</th>\n",
       "      <th>ppap_risk</th>\n",
       "      <th>stop_auto_buy</th>\n",
       "      <th>rev_stop</th>\n",
       "    </tr>\n",
       "  </thead>\n",
       "  <tbody>\n",
       "    <tr>\n",
       "      <th>0</th>\n",
       "      <td>-0.016752</td>\n",
       "      <td>-0.119814</td>\n",
       "      <td>-0.032808</td>\n",
       "      <td>-0.035436</td>\n",
       "      <td>-0.035220</td>\n",
       "      <td>-0.035216</td>\n",
       "      <td>-0.029004</td>\n",
       "      <td>-0.033708</td>\n",
       "      <td>-0.035548</td>\n",
       "      <td>-0.035399</td>\n",
       "      <td>...</td>\n",
       "      <td>0.023187</td>\n",
       "      <td>-0.008659</td>\n",
       "      <td>-3.469149</td>\n",
       "      <td>-3.581662</td>\n",
       "      <td>-0.018577</td>\n",
       "      <td>0.545873</td>\n",
       "      <td>0.012049</td>\n",
       "      <td>0.37061</td>\n",
       "      <td>-0.193779</td>\n",
       "      <td>0.020815</td>\n",
       "    </tr>\n",
       "    <tr>\n",
       "      <th>1</th>\n",
       "      <td>-0.016684</td>\n",
       "      <td>0.172370</td>\n",
       "      <td>-0.032808</td>\n",
       "      <td>-0.035436</td>\n",
       "      <td>-0.035220</td>\n",
       "      <td>-0.035216</td>\n",
       "      <td>-0.029004</td>\n",
       "      <td>-0.033708</td>\n",
       "      <td>-0.035548</td>\n",
       "      <td>-0.035399</td>\n",
       "      <td>...</td>\n",
       "      <td>0.023187</td>\n",
       "      <td>-0.008659</td>\n",
       "      <td>0.296052</td>\n",
       "      <td>0.287422</td>\n",
       "      <td>-0.018577</td>\n",
       "      <td>0.545873</td>\n",
       "      <td>0.012049</td>\n",
       "      <td>0.37061</td>\n",
       "      <td>-0.193779</td>\n",
       "      <td>0.020815</td>\n",
       "    </tr>\n",
       "    <tr>\n",
       "      <th>2</th>\n",
       "      <td>-0.016684</td>\n",
       "      <td>-0.119814</td>\n",
       "      <td>-0.032808</td>\n",
       "      <td>-0.035436</td>\n",
       "      <td>-0.035220</td>\n",
       "      <td>-0.035216</td>\n",
       "      <td>-0.029004</td>\n",
       "      <td>-0.033708</td>\n",
       "      <td>-0.035548</td>\n",
       "      <td>-0.035399</td>\n",
       "      <td>...</td>\n",
       "      <td>0.023187</td>\n",
       "      <td>-0.008659</td>\n",
       "      <td>-3.469149</td>\n",
       "      <td>-3.581662</td>\n",
       "      <td>-0.018577</td>\n",
       "      <td>-1.831928</td>\n",
       "      <td>0.012049</td>\n",
       "      <td>0.37061</td>\n",
       "      <td>-0.193779</td>\n",
       "      <td>0.020815</td>\n",
       "    </tr>\n",
       "    <tr>\n",
       "      <th>3</th>\n",
       "      <td>-0.016516</td>\n",
       "      <td>0.026278</td>\n",
       "      <td>-0.032808</td>\n",
       "      <td>-0.035436</td>\n",
       "      <td>-0.035220</td>\n",
       "      <td>-0.035216</td>\n",
       "      <td>-0.029004</td>\n",
       "      <td>-0.033708</td>\n",
       "      <td>-0.035548</td>\n",
       "      <td>-0.035399</td>\n",
       "      <td>...</td>\n",
       "      <td>0.023187</td>\n",
       "      <td>-0.008659</td>\n",
       "      <td>0.262538</td>\n",
       "      <td>0.254145</td>\n",
       "      <td>-0.018577</td>\n",
       "      <td>0.545873</td>\n",
       "      <td>0.012049</td>\n",
       "      <td>0.37061</td>\n",
       "      <td>-0.193779</td>\n",
       "      <td>0.020815</td>\n",
       "    </tr>\n",
       "    <tr>\n",
       "      <th>4</th>\n",
       "      <td>-0.016482</td>\n",
       "      <td>-0.119814</td>\n",
       "      <td>-0.032808</td>\n",
       "      <td>-0.035436</td>\n",
       "      <td>-0.035220</td>\n",
       "      <td>-0.035216</td>\n",
       "      <td>-0.029004</td>\n",
       "      <td>-0.033708</td>\n",
       "      <td>-0.035548</td>\n",
       "      <td>-0.035129</td>\n",
       "      <td>...</td>\n",
       "      <td>0.023187</td>\n",
       "      <td>-0.008659</td>\n",
       "      <td>-3.469149</td>\n",
       "      <td>-3.581662</td>\n",
       "      <td>-0.018577</td>\n",
       "      <td>-1.831928</td>\n",
       "      <td>0.012049</td>\n",
       "      <td>0.37061</td>\n",
       "      <td>-0.193779</td>\n",
       "      <td>0.020815</td>\n",
       "    </tr>\n",
       "    <tr>\n",
       "      <th>...</th>\n",
       "      <td>...</td>\n",
       "      <td>...</td>\n",
       "      <td>...</td>\n",
       "      <td>...</td>\n",
       "      <td>...</td>\n",
       "      <td>...</td>\n",
       "      <td>...</td>\n",
       "      <td>...</td>\n",
       "      <td>...</td>\n",
       "      <td>...</td>\n",
       "      <td>...</td>\n",
       "      <td>...</td>\n",
       "      <td>...</td>\n",
       "      <td>...</td>\n",
       "      <td>...</td>\n",
       "      <td>...</td>\n",
       "      <td>...</td>\n",
       "      <td>...</td>\n",
       "      <td>...</td>\n",
       "      <td>...</td>\n",
       "      <td>...</td>\n",
       "    </tr>\n",
       "    <tr>\n",
       "      <th>1687855</th>\n",
       "      <td>-0.016752</td>\n",
       "      <td>-0.850273</td>\n",
       "      <td>-0.032808</td>\n",
       "      <td>-0.033446</td>\n",
       "      <td>-0.034199</td>\n",
       "      <td>-0.034520</td>\n",
       "      <td>-0.029004</td>\n",
       "      <td>-0.032745</td>\n",
       "      <td>-0.034820</td>\n",
       "      <td>-0.034927</td>\n",
       "      <td>...</td>\n",
       "      <td>0.023187</td>\n",
       "      <td>-0.008659</td>\n",
       "      <td>0.284755</td>\n",
       "      <td>0.275814</td>\n",
       "      <td>0.129693</td>\n",
       "      <td>-1.831928</td>\n",
       "      <td>0.012049</td>\n",
       "      <td>0.37061</td>\n",
       "      <td>-0.193779</td>\n",
       "      <td>0.020815</td>\n",
       "    </tr>\n",
       "    <tr>\n",
       "      <th>1687856</th>\n",
       "      <td>-0.016786</td>\n",
       "      <td>-0.119814</td>\n",
       "      <td>-0.032808</td>\n",
       "      <td>-0.034441</td>\n",
       "      <td>-0.034506</td>\n",
       "      <td>-0.034590</td>\n",
       "      <td>-0.028486</td>\n",
       "      <td>-0.033130</td>\n",
       "      <td>-0.035236</td>\n",
       "      <td>-0.034860</td>\n",
       "      <td>...</td>\n",
       "      <td>0.023187</td>\n",
       "      <td>-0.008659</td>\n",
       "      <td>-3.469149</td>\n",
       "      <td>-3.581662</td>\n",
       "      <td>0.011077</td>\n",
       "      <td>0.545873</td>\n",
       "      <td>0.012049</td>\n",
       "      <td>0.37061</td>\n",
       "      <td>-0.193779</td>\n",
       "      <td>0.020815</td>\n",
       "    </tr>\n",
       "    <tr>\n",
       "      <th>1687857</th>\n",
       "      <td>-0.016786</td>\n",
       "      <td>0.172370</td>\n",
       "      <td>-0.032808</td>\n",
       "      <td>-0.034043</td>\n",
       "      <td>-0.034301</td>\n",
       "      <td>-0.034451</td>\n",
       "      <td>-0.029004</td>\n",
       "      <td>-0.032168</td>\n",
       "      <td>-0.034404</td>\n",
       "      <td>-0.034590</td>\n",
       "      <td>...</td>\n",
       "      <td>0.023187</td>\n",
       "      <td>-0.008659</td>\n",
       "      <td>0.291157</td>\n",
       "      <td>0.281618</td>\n",
       "      <td>0.011077</td>\n",
       "      <td>-1.831928</td>\n",
       "      <td>0.012049</td>\n",
       "      <td>0.37061</td>\n",
       "      <td>5.160512</td>\n",
       "      <td>0.020815</td>\n",
       "    </tr>\n",
       "    <tr>\n",
       "      <th>1687858</th>\n",
       "      <td>-0.014658</td>\n",
       "      <td>0.172370</td>\n",
       "      <td>-0.020892</td>\n",
       "      <td>-0.027677</td>\n",
       "      <td>-0.026338</td>\n",
       "      <td>-0.026453</td>\n",
       "      <td>-0.010853</td>\n",
       "      <td>-0.021575</td>\n",
       "      <td>-0.019632</td>\n",
       "      <td>-0.021584</td>\n",
       "      <td>...</td>\n",
       "      <td>0.023187</td>\n",
       "      <td>-0.008659</td>\n",
       "      <td>0.291157</td>\n",
       "      <td>0.281618</td>\n",
       "      <td>0.159347</td>\n",
       "      <td>0.545873</td>\n",
       "      <td>0.012049</td>\n",
       "      <td>0.37061</td>\n",
       "      <td>-0.193779</td>\n",
       "      <td>0.020815</td>\n",
       "    </tr>\n",
       "    <tr>\n",
       "      <th>1687859</th>\n",
       "      <td>-0.016110</td>\n",
       "      <td>-0.558089</td>\n",
       "      <td>-0.032808</td>\n",
       "      <td>-0.035436</td>\n",
       "      <td>-0.035220</td>\n",
       "      <td>-0.035216</td>\n",
       "      <td>-0.027967</td>\n",
       "      <td>-0.032360</td>\n",
       "      <td>-0.034300</td>\n",
       "      <td>-0.034051</td>\n",
       "      <td>...</td>\n",
       "      <td>0.023187</td>\n",
       "      <td>-0.008659</td>\n",
       "      <td>0.286261</td>\n",
       "      <td>0.279296</td>\n",
       "      <td>0.011077</td>\n",
       "      <td>0.545873</td>\n",
       "      <td>0.012049</td>\n",
       "      <td>0.37061</td>\n",
       "      <td>-0.193779</td>\n",
       "      <td>0.020815</td>\n",
       "    </tr>\n",
       "  </tbody>\n",
       "</table>\n",
       "<p>1687860 rows × 21 columns</p>\n",
       "</div>"
      ],
      "text/plain": [
       "         national_inv  lead_time  in_transit_qty  forecast_3_month  \\\n",
       "0           -0.016752  -0.119814       -0.032808         -0.035436   \n",
       "1           -0.016684   0.172370       -0.032808         -0.035436   \n",
       "2           -0.016684  -0.119814       -0.032808         -0.035436   \n",
       "3           -0.016516   0.026278       -0.032808         -0.035436   \n",
       "4           -0.016482  -0.119814       -0.032808         -0.035436   \n",
       "...               ...        ...             ...               ...   \n",
       "1687855     -0.016752  -0.850273       -0.032808         -0.033446   \n",
       "1687856     -0.016786  -0.119814       -0.032808         -0.034441   \n",
       "1687857     -0.016786   0.172370       -0.032808         -0.034043   \n",
       "1687858     -0.014658   0.172370       -0.020892         -0.027677   \n",
       "1687859     -0.016110  -0.558089       -0.032808         -0.035436   \n",
       "\n",
       "         forecast_6_month  forecast_9_month  sales_1_month  sales_3_month  \\\n",
       "0               -0.035220         -0.035216      -0.029004      -0.033708   \n",
       "1               -0.035220         -0.035216      -0.029004      -0.033708   \n",
       "2               -0.035220         -0.035216      -0.029004      -0.033708   \n",
       "3               -0.035220         -0.035216      -0.029004      -0.033708   \n",
       "4               -0.035220         -0.035216      -0.029004      -0.033708   \n",
       "...                   ...               ...            ...            ...   \n",
       "1687855         -0.034199         -0.034520      -0.029004      -0.032745   \n",
       "1687856         -0.034506         -0.034590      -0.028486      -0.033130   \n",
       "1687857         -0.034301         -0.034451      -0.029004      -0.032168   \n",
       "1687858         -0.026338         -0.026453      -0.010853      -0.021575   \n",
       "1687859         -0.035220         -0.035216      -0.027967      -0.032360   \n",
       "\n",
       "         sales_6_month  sales_9_month  ...  potential_issue  pieces_past_due  \\\n",
       "0            -0.035548      -0.035399  ...         0.023187        -0.008659   \n",
       "1            -0.035548      -0.035399  ...         0.023187        -0.008659   \n",
       "2            -0.035548      -0.035399  ...         0.023187        -0.008659   \n",
       "3            -0.035548      -0.035399  ...         0.023187        -0.008659   \n",
       "4            -0.035548      -0.035129  ...         0.023187        -0.008659   \n",
       "...                ...            ...  ...              ...              ...   \n",
       "1687855      -0.034820      -0.034927  ...         0.023187        -0.008659   \n",
       "1687856      -0.035236      -0.034860  ...         0.023187        -0.008659   \n",
       "1687857      -0.034404      -0.034590  ...         0.023187        -0.008659   \n",
       "1687858      -0.019632      -0.021584  ...         0.023187        -0.008659   \n",
       "1687859      -0.034300      -0.034051  ...         0.023187        -0.008659   \n",
       "\n",
       "         perf_6_month_avg  perf_12_month_avg  local_bo_qty  deck_risk  \\\n",
       "0               -3.469149          -3.581662     -0.018577   0.545873   \n",
       "1                0.296052           0.287422     -0.018577   0.545873   \n",
       "2               -3.469149          -3.581662     -0.018577  -1.831928   \n",
       "3                0.262538           0.254145     -0.018577   0.545873   \n",
       "4               -3.469149          -3.581662     -0.018577  -1.831928   \n",
       "...                   ...                ...           ...        ...   \n",
       "1687855          0.284755           0.275814      0.129693  -1.831928   \n",
       "1687856         -3.469149          -3.581662      0.011077   0.545873   \n",
       "1687857          0.291157           0.281618      0.011077  -1.831928   \n",
       "1687858          0.291157           0.281618      0.159347   0.545873   \n",
       "1687859          0.286261           0.279296      0.011077   0.545873   \n",
       "\n",
       "         oe_constraint  ppap_risk  stop_auto_buy  rev_stop  \n",
       "0             0.012049    0.37061      -0.193779  0.020815  \n",
       "1             0.012049    0.37061      -0.193779  0.020815  \n",
       "2             0.012049    0.37061      -0.193779  0.020815  \n",
       "3             0.012049    0.37061      -0.193779  0.020815  \n",
       "4             0.012049    0.37061      -0.193779  0.020815  \n",
       "...                ...        ...            ...       ...  \n",
       "1687855       0.012049    0.37061      -0.193779  0.020815  \n",
       "1687856       0.012049    0.37061      -0.193779  0.020815  \n",
       "1687857       0.012049    0.37061       5.160512  0.020815  \n",
       "1687858       0.012049    0.37061      -0.193779  0.020815  \n",
       "1687859       0.012049    0.37061      -0.193779  0.020815  \n",
       "\n",
       "[1687860 rows x 21 columns]"
      ]
     },
     "execution_count": 22,
     "metadata": {},
     "output_type": "execute_result"
    }
   ],
   "source": [
    "from sklearn.preprocessing import StandardScaler\n",
    "scalar = StandardScaler()\n",
    "X_scaled = pd.DataFrame(scalar.fit_transform(X),columns=X.columns)\n",
    "\n",
    "X_scaled"
   ]
  },
  {
   "cell_type": "code",
   "execution_count": 24,
   "metadata": {},
   "outputs": [
    {
     "data": {
      "text/plain": [
       "<matplotlib.axes._subplots.AxesSubplot at 0x18680106c88>"
      ]
     },
     "execution_count": 24,
     "metadata": {},
     "output_type": "execute_result"
    },
    {
     "data": {
      "image/png": "[encoded data removed]",
      "text/plain": [
       "<Figure size 1440x1440 with 2 Axes>"
      ]
     },
     "metadata": {},
     "output_type": "display_data"
    }
   ],
   "source": [
    "plt.figure(figsize=(20,20))\n",
    "sns.heatmap(X_scaled.corr().abs(), vmin = -0.5,vmax = 1,annot=True)"
   ]
  },
  {
   "cell_type": "code",
   "execution_count": 25,
   "metadata": {},
   "outputs": [],
   "source": [
    "from statsmodels.stats.outliers_influence import variance_inflation_factor\n",
    "variables = X_scaled.values"
   ]
  },
  {
   "cell_type": "code",
   "execution_count": 26,
   "metadata": {},
   "outputs": [],
   "source": [
    "vif = pd.DataFrame()\n",
    "\n",
    "# here we make use of the variance_inflation_factor, which will basically output the respective VIFs \n",
    "vif[\"VIF\"] = [variance_inflation_factor(variables, i) for i in range(variables.shape[1])]\n",
    "# Finally, I like to include names so it is easier to explore the result\n",
    "vif[\"Features\"] = X.columns"
   ]
  },
  {
   "cell_type": "code",
   "execution_count": 27,
   "metadata": {},
   "outputs": [
    {
     "data": {
      "text/html": [
       "<div>\n",
       "<style scoped>\n",
       "    .dataframe tbody tr th:only-of-type {\n",
       "        vertical-align: middle;\n",
       "    }\n",
       "\n",
       "    .dataframe tbody tr th {\n",
       "        vertical-align: top;\n",
       "    }\n",
       "\n",
       "    .dataframe thead th {\n",
       "        text-align: right;\n",
       "    }\n",
       "</style>\n",
       "<table border=\"1\" class=\"dataframe\">\n",
       "  <thead>\n",
       "    <tr style=\"text-align: right;\">\n",
       "      <th></th>\n",
       "      <th>VIF</th>\n",
       "      <th>Features</th>\n",
       "    </tr>\n",
       "  </thead>\n",
       "  <tbody>\n",
       "    <tr>\n",
       "      <th>0</th>\n",
       "      <td>1.874065</td>\n",
       "      <td>national_inv</td>\n",
       "    </tr>\n",
       "    <tr>\n",
       "      <th>1</th>\n",
       "      <td>1.071774</td>\n",
       "      <td>lead_time</td>\n",
       "    </tr>\n",
       "    <tr>\n",
       "      <th>2</th>\n",
       "      <td>3.011279</td>\n",
       "      <td>in_transit_qty</td>\n",
       "    </tr>\n",
       "    <tr>\n",
       "      <th>3</th>\n",
       "      <td>91.635351</td>\n",
       "      <td>forecast_3_month</td>\n",
       "    </tr>\n",
       "    <tr>\n",
       "      <th>4</th>\n",
       "      <td>473.297648</td>\n",
       "      <td>forecast_6_month</td>\n",
       "    </tr>\n",
       "    <tr>\n",
       "      <th>5</th>\n",
       "      <td>267.047217</td>\n",
       "      <td>forecast_9_month</td>\n",
       "    </tr>\n",
       "    <tr>\n",
       "      <th>6</th>\n",
       "      <td>7.622890</td>\n",
       "      <td>sales_1_month</td>\n",
       "    </tr>\n",
       "    <tr>\n",
       "      <th>7</th>\n",
       "      <td>61.731909</td>\n",
       "      <td>sales_3_month</td>\n",
       "    </tr>\n",
       "    <tr>\n",
       "      <th>8</th>\n",
       "      <td>97.995634</td>\n",
       "      <td>sales_6_month</td>\n",
       "    </tr>\n",
       "    <tr>\n",
       "      <th>9</th>\n",
       "      <td>20.745207</td>\n",
       "      <td>sales_9_month</td>\n",
       "    </tr>\n",
       "    <tr>\n",
       "      <th>10</th>\n",
       "      <td>7.430057</td>\n",
       "      <td>min_bank</td>\n",
       "    </tr>\n",
       "    <tr>\n",
       "      <th>11</th>\n",
       "      <td>1.000482</td>\n",
       "      <td>potential_issue</td>\n",
       "    </tr>\n",
       "    <tr>\n",
       "      <th>12</th>\n",
       "      <td>1.180648</td>\n",
       "      <td>pieces_past_due</td>\n",
       "    </tr>\n",
       "    <tr>\n",
       "      <th>13</th>\n",
       "      <td>16.344404</td>\n",
       "      <td>perf_6_month_avg</td>\n",
       "    </tr>\n",
       "    <tr>\n",
       "      <th>14</th>\n",
       "      <td>16.344489</td>\n",
       "      <td>perf_12_month_avg</td>\n",
       "    </tr>\n",
       "    <tr>\n",
       "      <th>15</th>\n",
       "      <td>1.009629</td>\n",
       "      <td>local_bo_qty</td>\n",
       "    </tr>\n",
       "    <tr>\n",
       "      <th>16</th>\n",
       "      <td>1.082616</td>\n",
       "      <td>deck_risk</td>\n",
       "    </tr>\n",
       "    <tr>\n",
       "      <th>17</th>\n",
       "      <td>1.000423</td>\n",
       "      <td>oe_constraint</td>\n",
       "    </tr>\n",
       "    <tr>\n",
       "      <th>18</th>\n",
       "      <td>1.003343</td>\n",
       "      <td>ppap_risk</td>\n",
       "    </tr>\n",
       "    <tr>\n",
       "      <th>19</th>\n",
       "      <td>1.136593</td>\n",
       "      <td>stop_auto_buy</td>\n",
       "    </tr>\n",
       "    <tr>\n",
       "      <th>20</th>\n",
       "      <td>1.003930</td>\n",
       "      <td>rev_stop</td>\n",
       "    </tr>\n",
       "  </tbody>\n",
       "</table>\n",
       "</div>"
      ],
      "text/plain": [
       "           VIF           Features\n",
       "0     1.874065       national_inv\n",
       "1     1.071774          lead_time\n",
       "2     3.011279     in_transit_qty\n",
       "3    91.635351   forecast_3_month\n",
       "4   473.297648   forecast_6_month\n",
       "5   267.047217   forecast_9_month\n",
       "6     7.622890      sales_1_month\n",
       "7    61.731909      sales_3_month\n",
       "8    97.995634      sales_6_month\n",
       "9    20.745207      sales_9_month\n",
       "10    7.430057           min_bank\n",
       "11    1.000482    potential_issue\n",
       "12    1.180648    pieces_past_due\n",
       "13   16.344404   perf_6_month_avg\n",
       "14   16.344489  perf_12_month_avg\n",
       "15    1.009629       local_bo_qty\n",
       "16    1.082616          deck_risk\n",
       "17    1.000423      oe_constraint\n",
       "18    1.003343          ppap_risk\n",
       "19    1.136593      stop_auto_buy\n",
       "20    1.003930           rev_stop"
      ]
     },
     "execution_count": 27,
     "metadata": {},
     "output_type": "execute_result"
    }
   ],
   "source": [
    "vif"
   ]
  },
  {
   "cell_type": "code",
   "execution_count": 28,
   "metadata": {},
   "outputs": [
    {
     "data": {
      "text/plain": [
       "VIF         8\n",
       "Features    8\n",
       "dtype: int64"
      ]
     },
     "execution_count": 28,
     "metadata": {},
     "output_type": "execute_result"
    }
   ],
   "source": [
    "vif[vif[\"VIF\"]>8].count()"
   ]
  },
  {
   "cell_type": "code",
   "execution_count": 29,
   "metadata": {},
   "outputs": [
    {
     "data": {
      "image/png": "[encoded data removed]",
      "text/plain": [
       "<Figure size 432x288 with 1 Axes>"
      ]
     },
     "metadata": {},
     "output_type": "display_data"
    }
   ],
   "source": [
    "from sklearn.decomposition import PCA\n",
    "import numpy as np\n",
    "pca = PCA()\n",
    "principalComponents = pca.fit_transform(X_scaled)\n",
    "plt.figure()\n",
    "plt.plot(np.cumsum(pca.explained_variance_ratio_))\n",
    "plt.xlabel('Number of Components')\n",
    "plt.ylabel('Variance (%)') #for each component\n",
    "plt.title('Explained Variance')\n",
    "plt.show()"
   ]
  },
  {
   "cell_type": "code",
   "execution_count": 30,
   "metadata": {},
   "outputs": [],
   "source": [
    "pca = PCA(n_components=10) # components takes based on above graph\n",
    "new_data = pca.fit_transform(X_scaled)\n",
    "\n",
    "principal_x = pd.DataFrame(new_data,columns=['PC-1','PC-2','PC-3','PC-4','PC-5','PC-6','PC-7','PC-8','PC-9','PC-10'])"
   ]
  },
  {
   "cell_type": "code",
   "execution_count": 31,
   "metadata": {
    "scrolled": true
   },
   "outputs": [
    {
     "data": {
      "text/html": [
       "<div>\n",
       "<style scoped>\n",
       "    .dataframe tbody tr th:only-of-type {\n",
       "        vertical-align: middle;\n",
       "    }\n",
       "\n",
       "    .dataframe tbody tr th {\n",
       "        vertical-align: top;\n",
       "    }\n",
       "\n",
       "    .dataframe thead th {\n",
       "        text-align: right;\n",
       "    }\n",
       "</style>\n",
       "<table border=\"1\" class=\"dataframe\">\n",
       "  <thead>\n",
       "    <tr style=\"text-align: right;\">\n",
       "      <th></th>\n",
       "      <th>PC-1</th>\n",
       "      <th>PC-2</th>\n",
       "      <th>PC-3</th>\n",
       "      <th>PC-4</th>\n",
       "      <th>PC-5</th>\n",
       "      <th>PC-6</th>\n",
       "      <th>PC-7</th>\n",
       "      <th>PC-8</th>\n",
       "      <th>PC-9</th>\n",
       "      <th>PC-10</th>\n",
       "    </tr>\n",
       "  </thead>\n",
       "  <tbody>\n",
       "    <tr>\n",
       "      <th>0</th>\n",
       "      <td>-0.119250</td>\n",
       "      <td>4.184266</td>\n",
       "      <td>2.138894</td>\n",
       "      <td>-0.101331</td>\n",
       "      <td>-0.302499</td>\n",
       "      <td>0.182959</td>\n",
       "      <td>0.276597</td>\n",
       "      <td>-0.144675</td>\n",
       "      <td>-0.418150</td>\n",
       "      <td>-0.000304</td>\n",
       "    </tr>\n",
       "    <tr>\n",
       "      <th>1</th>\n",
       "      <td>-0.100656</td>\n",
       "      <td>-0.593881</td>\n",
       "      <td>-0.014940</td>\n",
       "      <td>0.013942</td>\n",
       "      <td>-0.173200</td>\n",
       "      <td>0.067069</td>\n",
       "      <td>0.170901</td>\n",
       "      <td>-0.109097</td>\n",
       "      <td>-0.283441</td>\n",
       "      <td>0.002469</td>\n",
       "    </tr>\n",
       "    <tr>\n",
       "      <th>2</th>\n",
       "      <td>-0.138855</td>\n",
       "      <td>4.883071</td>\n",
       "      <td>1.534566</td>\n",
       "      <td>-0.184784</td>\n",
       "      <td>-0.395278</td>\n",
       "      <td>0.555724</td>\n",
       "      <td>-0.043175</td>\n",
       "      <td>-0.050856</td>\n",
       "      <td>-0.131934</td>\n",
       "      <td>-0.018987</td>\n",
       "    </tr>\n",
       "    <tr>\n",
       "      <th>3</th>\n",
       "      <td>-0.100069</td>\n",
       "      <td>-0.568237</td>\n",
       "      <td>0.111453</td>\n",
       "      <td>0.009433</td>\n",
       "      <td>-0.165584</td>\n",
       "      <td>0.056702</td>\n",
       "      <td>0.168907</td>\n",
       "      <td>-0.107127</td>\n",
       "      <td>-0.277690</td>\n",
       "      <td>0.002051</td>\n",
       "    </tr>\n",
       "    <tr>\n",
       "      <th>4</th>\n",
       "      <td>-0.138240</td>\n",
       "      <td>4.883088</td>\n",
       "      <td>1.534580</td>\n",
       "      <td>-0.184170</td>\n",
       "      <td>-0.395307</td>\n",
       "      <td>0.555693</td>\n",
       "      <td>-0.043260</td>\n",
       "      <td>-0.050903</td>\n",
       "      <td>-0.131950</td>\n",
       "      <td>-0.018931</td>\n",
       "    </tr>\n",
       "    <tr>\n",
       "      <th>...</th>\n",
       "      <td>...</td>\n",
       "      <td>...</td>\n",
       "      <td>...</td>\n",
       "      <td>...</td>\n",
       "      <td>...</td>\n",
       "      <td>...</td>\n",
       "      <td>...</td>\n",
       "      <td>...</td>\n",
       "      <td>...</td>\n",
       "      <td>...</td>\n",
       "    </tr>\n",
       "    <tr>\n",
       "      <th>1687855</th>\n",
       "      <td>-0.111163</td>\n",
       "      <td>0.003916</td>\n",
       "      <td>0.154142</td>\n",
       "      <td>-0.071169</td>\n",
       "      <td>-0.163620</td>\n",
       "      <td>0.401317</td>\n",
       "      <td>-0.064770</td>\n",
       "      <td>0.076851</td>\n",
       "      <td>0.074670</td>\n",
       "      <td>0.004353</td>\n",
       "    </tr>\n",
       "    <tr>\n",
       "      <th>1687856</th>\n",
       "      <td>-0.117066</td>\n",
       "      <td>4.184216</td>\n",
       "      <td>2.139164</td>\n",
       "      <td>-0.096325</td>\n",
       "      <td>-0.294433</td>\n",
       "      <td>0.191364</td>\n",
       "      <td>0.297443</td>\n",
       "      <td>-0.129517</td>\n",
       "      <td>-0.413568</td>\n",
       "      <td>0.004339</td>\n",
       "    </tr>\n",
       "    <tr>\n",
       "      <th>1687857</th>\n",
       "      <td>-0.116019</td>\n",
       "      <td>1.808254</td>\n",
       "      <td>-3.224232</td>\n",
       "      <td>0.035661</td>\n",
       "      <td>-0.148068</td>\n",
       "      <td>0.151380</td>\n",
       "      <td>0.320344</td>\n",
       "      <td>-0.145306</td>\n",
       "      <td>-0.503949</td>\n",
       "      <td>-0.067208</td>\n",
       "    </tr>\n",
       "    <tr>\n",
       "      <th>1687858</th>\n",
       "      <td>-0.060969</td>\n",
       "      <td>-0.587155</td>\n",
       "      <td>-0.010578</td>\n",
       "      <td>0.049169</td>\n",
       "      <td>-0.125176</td>\n",
       "      <td>0.117564</td>\n",
       "      <td>0.295895</td>\n",
       "      <td>-0.018150</td>\n",
       "      <td>-0.256036</td>\n",
       "      <td>0.025145</td>\n",
       "    </tr>\n",
       "    <tr>\n",
       "      <th>1687859</th>\n",
       "      <td>-0.095513</td>\n",
       "      <td>-0.664883</td>\n",
       "      <td>0.537185</td>\n",
       "      <td>0.000400</td>\n",
       "      <td>-0.120933</td>\n",
       "      <td>0.017923</td>\n",
       "      <td>0.177260</td>\n",
       "      <td>-0.082358</td>\n",
       "      <td>-0.243908</td>\n",
       "      <td>0.004897</td>\n",
       "    </tr>\n",
       "  </tbody>\n",
       "</table>\n",
       "<p>1687860 rows × 10 columns</p>\n",
       "</div>"
      ],
      "text/plain": [
       "             PC-1      PC-2      PC-3      PC-4      PC-5      PC-6      PC-7  \\\n",
       "0       -0.119250  4.184266  2.138894 -0.101331 -0.302499  0.182959  0.276597   \n",
       "1       -0.100656 -0.593881 -0.014940  0.013942 -0.173200  0.067069  0.170901   \n",
       "2       -0.138855  4.883071  1.534566 -0.184784 -0.395278  0.555724 -0.043175   \n",
       "3       -0.100069 -0.568237  0.111453  0.009433 -0.165584  0.056702  0.168907   \n",
       "4       -0.138240  4.883088  1.534580 -0.184170 -0.395307  0.555693 -0.043260   \n",
       "...           ...       ...       ...       ...       ...       ...       ...   \n",
       "1687855 -0.111163  0.003916  0.154142 -0.071169 -0.163620  0.401317 -0.064770   \n",
       "1687856 -0.117066  4.184216  2.139164 -0.096325 -0.294433  0.191364  0.297443   \n",
       "1687857 -0.116019  1.808254 -3.224232  0.035661 -0.148068  0.151380  0.320344   \n",
       "1687858 -0.060969 -0.587155 -0.010578  0.049169 -0.125176  0.117564  0.295895   \n",
       "1687859 -0.095513 -0.664883  0.537185  0.000400 -0.120933  0.017923  0.177260   \n",
       "\n",
       "             PC-8      PC-9     PC-10  \n",
       "0       -0.144675 -0.418150 -0.000304  \n",
       "1       -0.109097 -0.283441  0.002469  \n",
       "2       -0.050856 -0.131934 -0.018987  \n",
       "3       -0.107127 -0.277690  0.002051  \n",
       "4       -0.050903 -0.131950 -0.018931  \n",
       "...           ...       ...       ...  \n",
       "1687855  0.076851  0.074670  0.004353  \n",
       "1687856 -0.129517 -0.413568  0.004339  \n",
       "1687857 -0.145306 -0.503949 -0.067208  \n",
       "1687858 -0.018150 -0.256036  0.025145  \n",
       "1687859 -0.082358 -0.243908  0.004897  \n",
       "\n",
       "[1687860 rows x 10 columns]"
      ]
     },
     "execution_count": 31,
     "metadata": {},
     "output_type": "execute_result"
    }
   ],
   "source": [
    "principal_x"
   ]
  },
  {
   "cell_type": "code",
   "execution_count": 32,
   "metadata": {},
   "outputs": [],
   "source": [
    "from statsmodels.stats.outliers_influence import variance_inflation_factor\n",
    "variables = principal_x.values\n",
    "\n",
    "# we create a new data frame which will include all the VIFs\n",
    "# note that each variable has its own variance inflation factor as this measure is variable specific (not model specific)\n",
    "# we do not include categorical values for mulitcollinearity as they do not provide much information as numerical ones do\n",
    "vif = pd.DataFrame()\n",
    "\n",
    "# here we make use of the variance_inflation_factor, which will basically output the respective VIFs \n",
    "vif[\"VIF\"] = [variance_inflation_factor(variables, i) for i in range(variables.shape[1])]\n",
    "# Finally, I like to include names so it is easier to explore the result\n",
    "vif[\"Features\"] = principal_x.columns"
   ]
  },
  {
   "cell_type": "code",
   "execution_count": 33,
   "metadata": {},
   "outputs": [
    {
     "data": {
      "text/html": [
       "<div>\n",
       "<style scoped>\n",
       "    .dataframe tbody tr th:only-of-type {\n",
       "        vertical-align: middle;\n",
       "    }\n",
       "\n",
       "    .dataframe tbody tr th {\n",
       "        vertical-align: top;\n",
       "    }\n",
       "\n",
       "    .dataframe thead th {\n",
       "        text-align: right;\n",
       "    }\n",
       "</style>\n",
       "<table border=\"1\" class=\"dataframe\">\n",
       "  <thead>\n",
       "    <tr style=\"text-align: right;\">\n",
       "      <th></th>\n",
       "      <th>VIF</th>\n",
       "      <th>Features</th>\n",
       "    </tr>\n",
       "  </thead>\n",
       "  <tbody>\n",
       "    <tr>\n",
       "      <th>0</th>\n",
       "      <td>1.0</td>\n",
       "      <td>PC-1</td>\n",
       "    </tr>\n",
       "    <tr>\n",
       "      <th>1</th>\n",
       "      <td>1.0</td>\n",
       "      <td>PC-2</td>\n",
       "    </tr>\n",
       "    <tr>\n",
       "      <th>2</th>\n",
       "      <td>1.0</td>\n",
       "      <td>PC-3</td>\n",
       "    </tr>\n",
       "    <tr>\n",
       "      <th>3</th>\n",
       "      <td>1.0</td>\n",
       "      <td>PC-4</td>\n",
       "    </tr>\n",
       "    <tr>\n",
       "      <th>4</th>\n",
       "      <td>1.0</td>\n",
       "      <td>PC-5</td>\n",
       "    </tr>\n",
       "    <tr>\n",
       "      <th>5</th>\n",
       "      <td>1.0</td>\n",
       "      <td>PC-6</td>\n",
       "    </tr>\n",
       "    <tr>\n",
       "      <th>6</th>\n",
       "      <td>1.0</td>\n",
       "      <td>PC-7</td>\n",
       "    </tr>\n",
       "    <tr>\n",
       "      <th>7</th>\n",
       "      <td>1.0</td>\n",
       "      <td>PC-8</td>\n",
       "    </tr>\n",
       "    <tr>\n",
       "      <th>8</th>\n",
       "      <td>1.0</td>\n",
       "      <td>PC-9</td>\n",
       "    </tr>\n",
       "    <tr>\n",
       "      <th>9</th>\n",
       "      <td>1.0</td>\n",
       "      <td>PC-10</td>\n",
       "    </tr>\n",
       "  </tbody>\n",
       "</table>\n",
       "</div>"
      ],
      "text/plain": [
       "   VIF Features\n",
       "0  1.0     PC-1\n",
       "1  1.0     PC-2\n",
       "2  1.0     PC-3\n",
       "3  1.0     PC-4\n",
       "4  1.0     PC-5\n",
       "5  1.0     PC-6\n",
       "6  1.0     PC-7\n",
       "7  1.0     PC-8\n",
       "8  1.0     PC-9\n",
       "9  1.0    PC-10"
      ]
     },
     "execution_count": 33,
     "metadata": {},
     "output_type": "execute_result"
    }
   ],
   "source": [
    "vif"
   ]
  },
  {
   "cell_type": "markdown",
   "metadata": {},
   "source": [
    "### Target feature is imbalaced"
   ]
  },
  {
   "cell_type": "code",
   "execution_count": 34,
   "metadata": {},
   "outputs": [
    {
     "data": {
      "text/plain": [
       "<matplotlib.axes._subplots.AxesSubplot at 0x18682b57e48>"
      ]
     },
     "execution_count": 34,
     "metadata": {},
     "output_type": "execute_result"
    },
    {
     "data": {
      "image/png": "[encoded data removed]",
      "text/plain": [
       "<Figure size 432x288 with 1 Axes>"
      ]
     },
     "metadata": {},
     "output_type": "display_data"
    }
   ],
   "source": [
    "sns.countplot(y)"
   ]
  },
  {
   "cell_type": "code",
   "execution_count": 35,
   "metadata": {},
   "outputs": [],
   "source": [
    "# separate the minority and majority classes\n",
    "df_maj = Order[Order['went_on_backorder']==1]\n",
    "df_min = Order[Order['went_on_backorder']==0]"
   ]
  },
  {
   "cell_type": "code",
   "execution_count": 36,
   "metadata": {},
   "outputs": [],
   "source": [
    "# undersample majority class\n",
    "from sklearn.utils import resample\n",
    "\n",
    "df_maj_undersample = resample(df_maj, replace=True, n_samples=11293, random_state=0)"
   ]
  },
  {
   "cell_type": "code",
   "execution_count": 37,
   "metadata": {},
   "outputs": [],
   "source": [
    "# combine majority class with oversampled minority class\n",
    "\n",
    "df_undersampled = pd.concat([df_min, df_maj_undersample])"
   ]
  },
  {
   "cell_type": "code",
   "execution_count": 38,
   "metadata": {},
   "outputs": [
    {
     "data": {
      "text/plain": [
       "1    11293\n",
       "0    11293\n",
       "Name: went_on_backorder, dtype: int64"
      ]
     },
     "execution_count": 38,
     "metadata": {},
     "output_type": "execute_result"
    }
   ],
   "source": [
    "# display new class value counts\n",
    "\n",
    "df_undersampled['went_on_backorder'].value_counts()"
   ]
  },
  {
   "cell_type": "code",
   "execution_count": 39,
   "metadata": {},
   "outputs": [],
   "source": [
    "from sklearn.linear_model import LogisticRegression\n",
    "from sklearn.metrics import classification_report\n",
    "from sklearn.metrics import confusion_matrix\n",
    "from sklearn.metrics import accuracy_score"
   ]
  },
  {
   "cell_type": "code",
   "execution_count": 40,
   "metadata": {},
   "outputs": [
    {
     "name": "stdout",
     "output_type": "stream",
     "text": [
      "Accuracy : 65.27%\n"
     ]
    }
   ],
   "source": [
    "# declare feature vector and target variable\n",
    "X2 = df_undersampled.drop(['went_on_backorder'], axis=1)\n",
    "y2 = df_undersampled['went_on_backorder']\n",
    "\n",
    "\n",
    "# instantiate the Logistic Regression classifier\n",
    "logreg2 = LogisticRegression()\n",
    "\n",
    "\n",
    "# fit the classifier to the imbalanced data\n",
    "clf2 = logreg2.fit(X2, y2)\n",
    "\n",
    "\n",
    "# predict on the training data\n",
    "y2_pred = clf2.predict(X2)\n",
    "\n",
    "\n",
    "# print the accuracy\n",
    "accuracy2 = accuracy_score(y2_pred, y2)\n",
    "\n",
    "print(\"Accuracy : %.2f%%\" % (accuracy2 * 100.0))"
   ]
  },
  {
   "cell_type": "code",
   "execution_count": 41,
   "metadata": {},
   "outputs": [],
   "source": [
    "# Random under-sampling and over-sampling with imbalanced-learn\n",
    "#but here we use Random oversampling because random under sampling got tarin 99 test 86 accuracy and precision -recall \n",
    "#score is 0.76\n",
    "\n",
    "\n",
    "#import imbalanced learn library\n",
    "import imblearn"
   ]
  },
  {
   "cell_type": "code",
   "execution_count": 42,
   "metadata": {},
   "outputs": [],
   "source": [
    "# import RandomUnderSampler\n",
    "from imblearn.under_sampling import RandomUnderSampler\n",
    "\n",
    "# instantiate the RandomUnderSampler\n",
    "rus = RandomUnderSampler(random_state=42)\n",
    "\n",
    "\n",
    "# fit the RandomUnderSampler to the dataset\n",
    "X_rus, y_rus = rus.fit_sample(principal_x, y)"
   ]
  },
  {
   "cell_type": "code",
   "execution_count": 43,
   "metadata": {},
   "outputs": [
    {
     "data": {
      "text/html": [
       "<div>\n",
       "<style scoped>\n",
       "    .dataframe tbody tr th:only-of-type {\n",
       "        vertical-align: middle;\n",
       "    }\n",
       "\n",
       "    .dataframe tbody tr th {\n",
       "        vertical-align: top;\n",
       "    }\n",
       "\n",
       "    .dataframe thead th {\n",
       "        text-align: right;\n",
       "    }\n",
       "</style>\n",
       "<table border=\"1\" class=\"dataframe\">\n",
       "  <thead>\n",
       "    <tr style=\"text-align: right;\">\n",
       "      <th></th>\n",
       "      <th>PC-1</th>\n",
       "      <th>PC-2</th>\n",
       "      <th>PC-3</th>\n",
       "      <th>PC-4</th>\n",
       "      <th>PC-5</th>\n",
       "      <th>PC-6</th>\n",
       "      <th>PC-7</th>\n",
       "      <th>PC-8</th>\n",
       "      <th>PC-9</th>\n",
       "      <th>PC-10</th>\n",
       "    </tr>\n",
       "  </thead>\n",
       "  <tbody>\n",
       "    <tr>\n",
       "      <th>0</th>\n",
       "      <td>-0.102187</td>\n",
       "      <td>-0.409547</td>\n",
       "      <td>-0.135364</td>\n",
       "      <td>0.016583</td>\n",
       "      <td>1.168533</td>\n",
       "      <td>-1.088567</td>\n",
       "      <td>-0.880507</td>\n",
       "      <td>0.633001</td>\n",
       "      <td>1.837344</td>\n",
       "      <td>0.039812</td>\n",
       "    </tr>\n",
       "    <tr>\n",
       "      <th>1</th>\n",
       "      <td>0.336451</td>\n",
       "      <td>-0.430581</td>\n",
       "      <td>-0.147598</td>\n",
       "      <td>-0.226346</td>\n",
       "      <td>1.177250</td>\n",
       "      <td>-1.080372</td>\n",
       "      <td>-0.855884</td>\n",
       "      <td>0.646418</td>\n",
       "      <td>1.841120</td>\n",
       "      <td>0.038238</td>\n",
       "    </tr>\n",
       "    <tr>\n",
       "      <th>2</th>\n",
       "      <td>0.023364</td>\n",
       "      <td>4.197963</td>\n",
       "      <td>2.044652</td>\n",
       "      <td>0.182449</td>\n",
       "      <td>0.139973</td>\n",
       "      <td>0.664686</td>\n",
       "      <td>1.445703</td>\n",
       "      <td>0.701007</td>\n",
       "      <td>-0.169042</td>\n",
       "      <td>0.262082</td>\n",
       "    </tr>\n",
       "    <tr>\n",
       "      <th>3</th>\n",
       "      <td>-0.070289</td>\n",
       "      <td>-0.608164</td>\n",
       "      <td>0.095315</td>\n",
       "      <td>0.013233</td>\n",
       "      <td>-0.164541</td>\n",
       "      <td>0.055342</td>\n",
       "      <td>0.167637</td>\n",
       "      <td>-0.106857</td>\n",
       "      <td>-0.276418</td>\n",
       "      <td>-0.002097</td>\n",
       "    </tr>\n",
       "    <tr>\n",
       "      <th>4</th>\n",
       "      <td>1.564716</td>\n",
       "      <td>-0.548624</td>\n",
       "      <td>-0.194195</td>\n",
       "      <td>2.688452</td>\n",
       "      <td>4.035190</td>\n",
       "      <td>4.514417</td>\n",
       "      <td>11.127174</td>\n",
       "      <td>7.847356</td>\n",
       "      <td>2.103028</td>\n",
       "      <td>2.340862</td>\n",
       "    </tr>\n",
       "    <tr>\n",
       "      <th>...</th>\n",
       "      <td>...</td>\n",
       "      <td>...</td>\n",
       "      <td>...</td>\n",
       "      <td>...</td>\n",
       "      <td>...</td>\n",
       "      <td>...</td>\n",
       "      <td>...</td>\n",
       "      <td>...</td>\n",
       "      <td>...</td>\n",
       "      <td>...</td>\n",
       "    </tr>\n",
       "    <tr>\n",
       "      <th>22581</th>\n",
       "      <td>-0.117834</td>\n",
       "      <td>4.184288</td>\n",
       "      <td>2.138905</td>\n",
       "      <td>-0.100701</td>\n",
       "      <td>-0.302541</td>\n",
       "      <td>0.182921</td>\n",
       "      <td>0.276494</td>\n",
       "      <td>-0.144734</td>\n",
       "      <td>-0.418167</td>\n",
       "      <td>-0.000304</td>\n",
       "    </tr>\n",
       "    <tr>\n",
       "      <th>22582</th>\n",
       "      <td>-0.121669</td>\n",
       "      <td>0.165851</td>\n",
       "      <td>-0.942994</td>\n",
       "      <td>-0.058054</td>\n",
       "      <td>-0.293092</td>\n",
       "      <td>0.474869</td>\n",
       "      <td>-0.139834</td>\n",
       "      <td>-0.022424</td>\n",
       "      <td>-0.018770</td>\n",
       "      <td>-0.014896</td>\n",
       "    </tr>\n",
       "    <tr>\n",
       "      <th>22583</th>\n",
       "      <td>-0.119306</td>\n",
       "      <td>0.221008</td>\n",
       "      <td>-0.302842</td>\n",
       "      <td>-0.082664</td>\n",
       "      <td>1.111503</td>\n",
       "      <td>-0.762143</td>\n",
       "      <td>-1.212034</td>\n",
       "      <td>0.736228</td>\n",
       "      <td>2.151885</td>\n",
       "      <td>0.019344</td>\n",
       "    </tr>\n",
       "    <tr>\n",
       "      <th>22584</th>\n",
       "      <td>-0.118724</td>\n",
       "      <td>4.184280</td>\n",
       "      <td>2.138902</td>\n",
       "      <td>-0.100862</td>\n",
       "      <td>-0.302536</td>\n",
       "      <td>0.182931</td>\n",
       "      <td>0.276510</td>\n",
       "      <td>-0.144729</td>\n",
       "      <td>-0.418166</td>\n",
       "      <td>-0.000235</td>\n",
       "    </tr>\n",
       "    <tr>\n",
       "      <th>22585</th>\n",
       "      <td>-0.100166</td>\n",
       "      <td>-0.610094</td>\n",
       "      <td>0.094617</td>\n",
       "      <td>0.010008</td>\n",
       "      <td>-0.164286</td>\n",
       "      <td>0.055511</td>\n",
       "      <td>0.167988</td>\n",
       "      <td>-0.106747</td>\n",
       "      <td>-0.276384</td>\n",
       "      <td>0.002014</td>\n",
       "    </tr>\n",
       "  </tbody>\n",
       "</table>\n",
       "<p>22586 rows × 10 columns</p>\n",
       "</div>"
      ],
      "text/plain": [
       "           PC-1      PC-2      PC-3      PC-4      PC-5      PC-6       PC-7  \\\n",
       "0     -0.102187 -0.409547 -0.135364  0.016583  1.168533 -1.088567  -0.880507   \n",
       "1      0.336451 -0.430581 -0.147598 -0.226346  1.177250 -1.080372  -0.855884   \n",
       "2      0.023364  4.197963  2.044652  0.182449  0.139973  0.664686   1.445703   \n",
       "3     -0.070289 -0.608164  0.095315  0.013233 -0.164541  0.055342   0.167637   \n",
       "4      1.564716 -0.548624 -0.194195  2.688452  4.035190  4.514417  11.127174   \n",
       "...         ...       ...       ...       ...       ...       ...        ...   \n",
       "22581 -0.117834  4.184288  2.138905 -0.100701 -0.302541  0.182921   0.276494   \n",
       "22582 -0.121669  0.165851 -0.942994 -0.058054 -0.293092  0.474869  -0.139834   \n",
       "22583 -0.119306  0.221008 -0.302842 -0.082664  1.111503 -0.762143  -1.212034   \n",
       "22584 -0.118724  4.184280  2.138902 -0.100862 -0.302536  0.182931   0.276510   \n",
       "22585 -0.100166 -0.610094  0.094617  0.010008 -0.164286  0.055511   0.167988   \n",
       "\n",
       "           PC-8      PC-9     PC-10  \n",
       "0      0.633001  1.837344  0.039812  \n",
       "1      0.646418  1.841120  0.038238  \n",
       "2      0.701007 -0.169042  0.262082  \n",
       "3     -0.106857 -0.276418 -0.002097  \n",
       "4      7.847356  2.103028  2.340862  \n",
       "...         ...       ...       ...  \n",
       "22581 -0.144734 -0.418167 -0.000304  \n",
       "22582 -0.022424 -0.018770 -0.014896  \n",
       "22583  0.736228  2.151885  0.019344  \n",
       "22584 -0.144729 -0.418166 -0.000235  \n",
       "22585 -0.106747 -0.276384  0.002014  \n",
       "\n",
       "[22586 rows x 10 columns]"
      ]
     },
     "execution_count": 43,
     "metadata": {},
     "output_type": "execute_result"
    }
   ],
   "source": [
    "X_rus"
   ]
  },
  {
   "cell_type": "code",
   "execution_count": 44,
   "metadata": {},
   "outputs": [],
   "source": [
    "from imblearn.over_sampling import RandomOverSampler\n",
    "\n",
    "ros = RandomOverSampler()\n",
    "\n",
    "X_ros, y_ros = ros.fit_sample(principal_x, y)"
   ]
  },
  {
   "cell_type": "code",
   "execution_count": 45,
   "metadata": {},
   "outputs": [
    {
     "name": "stdout",
     "output_type": "stream",
     "text": [
      "1665274 new random points generated\n"
     ]
    }
   ],
   "source": [
    "print(X_ros.shape[0] - X.shape[0], 'new random points generated')"
   ]
  },
  {
   "cell_type": "code",
   "execution_count": 46,
   "metadata": {},
   "outputs": [],
   "source": [
    "from sklearn.model_selection import train_test_split"
   ]
  },
  {
   "cell_type": "code",
   "execution_count": 47,
   "metadata": {},
   "outputs": [],
   "source": [
    "x_train, x_test, y_train,y_test = train_test_split(X_ros,y_ros,test_size = 0.3)"
   ]
  },
  {
   "cell_type": "code",
   "execution_count": 48,
   "metadata": {},
   "outputs": [],
   "source": [
    "from sklearn.ensemble import RandomForestClassifier"
   ]
  },
  {
   "cell_type": "code",
   "execution_count": 49,
   "metadata": {},
   "outputs": [],
   "source": [
    "rf = RandomForestClassifier(oob_score=True)"
   ]
  },
  {
   "cell_type": "code",
   "execution_count": 50,
   "metadata": {},
   "outputs": [],
   "source": [
    "lr = LogisticRegression()"
   ]
  },
  {
   "cell_type": "code",
   "execution_count": 51,
   "metadata": {},
   "outputs": [
    {
     "data": {
      "text/plain": [
       "RandomForestClassifier(oob_score=True)"
      ]
     },
     "execution_count": 51,
     "metadata": {},
     "output_type": "execute_result"
    }
   ],
   "source": [
    "rf.fit(x_train,y_train)"
   ]
  },
  {
   "cell_type": "code",
   "execution_count": 52,
   "metadata": {},
   "outputs": [
    {
     "data": {
      "text/plain": [
       "array([0.16223098, 0.06630522, 0.06809995, 0.14509175, 0.07381371,\n",
       "       0.07857367, 0.10837811, 0.08728523, 0.06505319, 0.14516819])"
      ]
     },
     "execution_count": 52,
     "metadata": {},
     "output_type": "execute_result"
    }
   ],
   "source": [
    "rf.feature_importances_"
   ]
  },
  {
   "cell_type": "code",
   "execution_count": 53,
   "metadata": {},
   "outputs": [
    {
     "name": "stdout",
     "output_type": "stream",
     "text": [
      "{'bootstrap': True, 'ccp_alpha': 0.0, 'class_weight': None, 'criterion': 'gini', 'max_depth': None, 'max_features': 'auto', 'max_leaf_nodes': None, 'max_samples': None, 'min_impurity_decrease': 0.0, 'min_impurity_split': None, 'min_samples_leaf': 1, 'min_samples_split': 2, 'min_weight_fraction_leaf': 0.0, 'n_estimators': 100, 'n_jobs': None, 'oob_score': True, 'random_state': None, 'verbose': 0, 'warm_start': False}\n"
     ]
    }
   ],
   "source": [
    "print(rf.get_params())"
   ]
  },
  {
   "cell_type": "code",
   "execution_count": 54,
   "metadata": {},
   "outputs": [
    {
     "data": {
      "text/plain": [
       "0.9961549817164588"
      ]
     },
     "execution_count": 54,
     "metadata": {},
     "output_type": "execute_result"
    }
   ],
   "source": [
    "rf.score(x_train,y_train)"
   ]
  },
  {
   "cell_type": "code",
   "execution_count": 55,
   "metadata": {},
   "outputs": [
    {
     "data": {
      "text/plain": [
       "0.995706507638122"
      ]
     },
     "execution_count": 55,
     "metadata": {},
     "output_type": "execute_result"
    }
   ],
   "source": [
    "rf.score(x_test,y_test)"
   ]
  },
  {
   "cell_type": "code",
   "execution_count": 56,
   "metadata": {},
   "outputs": [
    {
     "name": "stdout",
     "output_type": "stream",
     "text": [
      "0.9954771507924572\n"
     ]
    }
   ],
   "source": [
    "print(rf.oob_score_)"
   ]
  },
  {
   "cell_type": "code",
   "execution_count": 57,
   "metadata": {},
   "outputs": [],
   "source": [
    "pred = rf.predict(x_test)"
   ]
  },
  {
   "cell_type": "code",
   "execution_count": 58,
   "metadata": {},
   "outputs": [
    {
     "data": {
      "text/plain": [
       "array([ 0, -1,  1], dtype=int64)"
      ]
     },
     "execution_count": 58,
     "metadata": {},
     "output_type": "execute_result"
    }
   ],
   "source": [
    "(pred - y_test).unique()"
   ]
  },
  {
   "cell_type": "code",
   "execution_count": 59,
   "metadata": {},
   "outputs": [
    {
     "data": {
      "text/html": [
       "<div>\n",
       "<style scoped>\n",
       "    .dataframe tbody tr th:only-of-type {\n",
       "        vertical-align: middle;\n",
       "    }\n",
       "\n",
       "    .dataframe tbody tr th {\n",
       "        vertical-align: top;\n",
       "    }\n",
       "\n",
       "    .dataframe thead th {\n",
       "        text-align: right;\n",
       "    }\n",
       "</style>\n",
       "<table border=\"1\" class=\"dataframe\">\n",
       "  <thead>\n",
       "    <tr style=\"text-align: right;\">\n",
       "      <th></th>\n",
       "      <th>0</th>\n",
       "    </tr>\n",
       "  </thead>\n",
       "  <tbody>\n",
       "    <tr>\n",
       "      <th>0.162231</th>\n",
       "      <td>PC-1</td>\n",
       "    </tr>\n",
       "    <tr>\n",
       "      <th>0.066305</th>\n",
       "      <td>PC-2</td>\n",
       "    </tr>\n",
       "    <tr>\n",
       "      <th>0.068100</th>\n",
       "      <td>PC-3</td>\n",
       "    </tr>\n",
       "    <tr>\n",
       "      <th>0.145092</th>\n",
       "      <td>PC-4</td>\n",
       "    </tr>\n",
       "    <tr>\n",
       "      <th>0.073814</th>\n",
       "      <td>PC-5</td>\n",
       "    </tr>\n",
       "    <tr>\n",
       "      <th>0.078574</th>\n",
       "      <td>PC-6</td>\n",
       "    </tr>\n",
       "    <tr>\n",
       "      <th>0.108378</th>\n",
       "      <td>PC-7</td>\n",
       "    </tr>\n",
       "    <tr>\n",
       "      <th>0.087285</th>\n",
       "      <td>PC-8</td>\n",
       "    </tr>\n",
       "    <tr>\n",
       "      <th>0.065053</th>\n",
       "      <td>PC-9</td>\n",
       "    </tr>\n",
       "    <tr>\n",
       "      <th>0.145168</th>\n",
       "      <td>PC-10</td>\n",
       "    </tr>\n",
       "  </tbody>\n",
       "</table>\n",
       "</div>"
      ],
      "text/plain": [
       "              0\n",
       "0.162231   PC-1\n",
       "0.066305   PC-2\n",
       "0.068100   PC-3\n",
       "0.145092   PC-4\n",
       "0.073814   PC-5\n",
       "0.078574   PC-6\n",
       "0.108378   PC-7\n",
       "0.087285   PC-8\n",
       "0.065053   PC-9\n",
       "0.145168  PC-10"
      ]
     },
     "execution_count": 59,
     "metadata": {},
     "output_type": "execute_result"
    }
   ],
   "source": [
    "pd.DataFrame(principal_x.columns,(rf.feature_importances_))"
   ]
  },
  {
   "cell_type": "code",
   "execution_count": 60,
   "metadata": {},
   "outputs": [
    {
     "data": {
      "text/plain": [
       "LogisticRegression()"
      ]
     },
     "execution_count": 60,
     "metadata": {},
     "output_type": "execute_result"
    }
   ],
   "source": [
    "lr.fit(x_train,y_train)"
   ]
  },
  {
   "cell_type": "code",
   "execution_count": 61,
   "metadata": {},
   "outputs": [
    {
     "data": {
      "text/plain": [
       "0.6124812489002834"
      ]
     },
     "execution_count": 61,
     "metadata": {},
     "output_type": "execute_result"
    }
   ],
   "source": [
    "lr.score(x_test,y_test)"
   ]
  },
  {
   "cell_type": "code",
   "execution_count": 62,
   "metadata": {},
   "outputs": [
    {
     "name": "stdout",
     "output_type": "stream",
     "text": [
      "Confusion matrix:\n",
      " [[501076   2047]\n",
      " [  2272 500546]]\n"
     ]
    }
   ],
   "source": [
    "\n",
    "# import the metric\n",
    "from sklearn.metrics import confusion_matrix\n",
    "\n",
    "\n",
    "# print the confusion matrix\n",
    "cnf_matrix = confusion_matrix(y_test,pred)\n",
    "\n",
    "\n",
    "print('Confusion matrix:\\n', cnf_matrix)"
   ]
  },
  {
   "cell_type": "code",
   "execution_count": 63,
   "metadata": {},
   "outputs": [
    {
     "name": "stdout",
     "output_type": "stream",
     "text": [
      "Classification Report:\n",
      "\n",
      "               precision    recall  f1-score   support\n",
      "\n",
      "           0       1.00      1.00      1.00    503123\n",
      "           1       1.00      1.00      1.00    502818\n",
      "\n",
      "    accuracy                           1.00   1005941\n",
      "   macro avg       1.00      1.00      1.00   1005941\n",
      "weighted avg       1.00      1.00      1.00   1005941\n",
      "\n"
     ]
    }
   ],
   "source": [
    "# import the metric\n",
    "from sklearn.metrics import classification_report # it gives 0 to 1\n",
    "\n",
    "\n",
    "# print classification report\n",
    "print(\"Classification Report:\\n\\n\", classification_report(y_test, pred))"
   ]
  },
  {
   "cell_type": "code",
   "execution_count": 64,
   "metadata": {},
   "outputs": [
    {
     "name": "stdout",
     "output_type": "stream",
     "text": [
      "Average precision-recall score : 0.99\n"
     ]
    }
   ],
   "source": [
    "# compute and print average precision score\n",
    "\n",
    "from sklearn.metrics import average_precision_score\n",
    "\n",
    "average_precision = average_precision_score(pred, y_test)\n",
    "\n",
    "print('Average precision-recall score : {0:0.2f}'.format(average_precision))"
   ]
  },
  {
   "cell_type": "code",
   "execution_count": 65,
   "metadata": {},
   "outputs": [
    {
     "data": {
      "text/plain": [
       "<matplotlib.legend.Legend at 0x186895d7d08>"
      ]
     },
     "execution_count": 65,
     "metadata": {},
     "output_type": "execute_result"
    },
    {
     "data": {
      "image/png": "[encoded data removed]",
      "text/plain": [
       "<Figure size 432x288 with 1 Axes>"
      ]
     },
     "metadata": {},
     "output_type": "display_data"
    }
   ],
   "source": [
    "\n",
    "from sklearn.metrics import precision_recall_curve \n",
    "\n",
    "precision, recall, thresholds = precision_recall_curve(pred, y_test)\n",
    "\n",
    "# create plot\n",
    "plt.plot(precision, recall, label='Precision-recall curve')\n",
    "plt.xlabel('Recall')\n",
    "plt.ylabel('Precision')\n",
    "plt.title('Precision-recall curve')\n",
    "plt.legend(loc=\"lower left\")"
   ]
  },
  {
   "cell_type": "markdown",
   "metadata": {},
   "source": [
    "## ROC analysis"
   ]
  },
  {
   "cell_type": "code",
   "execution_count": 66,
   "metadata": {},
   "outputs": [],
   "source": [
    "from pandas import DataFrame, Series\n",
    "prob_score = rf.predict_proba(x_test)\n",
    "prob_score = DataFrame(prob_score).iloc[:,0]"
   ]
  },
  {
   "cell_type": "code",
   "execution_count": 67,
   "metadata": {},
   "outputs": [],
   "source": [
    "from sklearn.metrics import classification_report, roc_curve, auc\n",
    "fpr,tpr,thresholds = roc_curve(y_test,1-prob_score)\n",
    "#auc = auc(fpr,tpr)"
   ]
  },
  {
   "cell_type": "code",
   "execution_count": 69,
   "metadata": {},
   "outputs": [
    {
     "data": {
      "image/png": "[encoded data removed]",
      "text/plain": [
       "<Figure size 432x288 with 1 Axes>"
      ]
     },
     "metadata": {},
     "output_type": "display_data"
    }
   ],
   "source": [
    "#Plotting the ROC curve\n",
    "plt.plot(fpr,tpr, color = 'darkorange')\n",
    "plt.xlim([-.05, 1.05])\n",
    "plt.ylim([-.05, 1.05])\n",
    "plt.xlabel('False Positive Rate')\n",
    "plt.ylabel('True Positive Rate')\n",
    "plt.title('ROC curve')\n",
    "plt.show()"
   ]
  },
  {
   "cell_type": "code",
   "execution_count": 70,
   "metadata": {},
   "outputs": [
    {
     "data": {
      "text/plain": [
       "array([0.        , 0.86252282, 0.86253078, ..., 0.99991448, 0.99991846,\n",
       "       1.        ])"
      ]
     },
     "execution_count": 70,
     "metadata": {},
     "output_type": "execute_result"
    }
   ],
   "source": [
    "tpr"
   ]
  },
  {
   "cell_type": "code",
   "execution_count": 71,
   "metadata": {},
   "outputs": [
    {
     "data": {
      "text/plain": [
       "array([0.        , 0.        , 0.        , ..., 0.06235255, 0.0627282 ,\n",
       "       1.        ])"
      ]
     },
     "execution_count": 71,
     "metadata": {},
     "output_type": "execute_result"
    }
   ],
   "source": [
    "fpr"
   ]
  },
  {
   "cell_type": "code",
   "execution_count": 72,
   "metadata": {},
   "outputs": [
    {
     "data": {
      "text/plain": [
       "array([2.        , 1.        , 0.99881745, ..., 0.00253886, 0.00245721,\n",
       "       0.        ])"
      ]
     },
     "execution_count": 72,
     "metadata": {},
     "output_type": "execute_result"
    }
   ],
   "source": [
    "thresholds"
   ]
  },
  {
   "cell_type": "code",
   "execution_count": 73,
   "metadata": {},
   "outputs": [
    {
     "data": {
      "text/html": [
       "<div>\n",
       "<style scoped>\n",
       "    .dataframe tbody tr th:only-of-type {\n",
       "        vertical-align: middle;\n",
       "    }\n",
       "\n",
       "    .dataframe tbody tr th {\n",
       "        vertical-align: top;\n",
       "    }\n",
       "\n",
       "    .dataframe thead th {\n",
       "        text-align: right;\n",
       "    }\n",
       "</style>\n",
       "<table border=\"1\" class=\"dataframe\">\n",
       "  <thead>\n",
       "    <tr style=\"text-align: right;\">\n",
       "      <th></th>\n",
       "      <th>fpr</th>\n",
       "      <th>tpr</th>\n",
       "      <th>1-fpr</th>\n",
       "      <th>tf</th>\n",
       "      <th>thresholds</th>\n",
       "    </tr>\n",
       "  </thead>\n",
       "  <tbody>\n",
       "    <tr>\n",
       "      <th>892</th>\n",
       "      <td>0.004182</td>\n",
       "      <td>0.995802</td>\n",
       "      <td>0.995818</td>\n",
       "      <td>-0.000016</td>\n",
       "      <td>0.47</td>\n",
       "    </tr>\n",
       "  </tbody>\n",
       "</table>\n",
       "</div>"
      ],
      "text/plain": [
       "          fpr       tpr     1-fpr        tf  thresholds\n",
       "892  0.004182  0.995802  0.995818 -0.000016        0.47"
      ]
     },
     "execution_count": 73,
     "metadata": {},
     "output_type": "execute_result"
    }
   ],
   "source": [
    "#ROC Analysis\n",
    "i = np.arange(len(fpr))\n",
    "roc = DataFrame({'fpr' : Series(fpr, index=i),'tpr' : Series(tpr, index = i), '1-fpr' : Series(1-fpr, index = i), \n",
    "                    'tf' : Series(tpr - (1-fpr), index = i), 'thresholds' : Series(thresholds, index = i)})\n",
    "roc.loc[(roc['tf']-0).abs().argsort()[[0]]]"
   ]
  },
  {
   "cell_type": "code",
   "execution_count": 79,
   "metadata": {},
   "outputs": [
    {
     "data": {
      "text/plain": [
       "[Text(0, 0, 'tpr'), Text(0, 0, '1-fpr')]"
      ]
     },
     "execution_count": 79,
     "metadata": {},
     "output_type": "execute_result"
    },
    {
     "data": {
      "image/png": "[encoded data removed]",
      "text/plain": [
       "<Figure size 432x288 with 1 Axes>"
      ]
     },
     "metadata": {},
     "output_type": "display_data"
    }
   ],
   "source": [
    "fig, ax = plt.subplots(1)\n",
    "plt.plot(roc['tpr'])\n",
    "plt.plot(roc['1-fpr'], color = 'red')\n",
    "plt.xlabel('1-false positive rate')\n",
    "plt.ylabel('True Positive Rate')\n",
    "plt.title('Receiver Operating Characteristic')\n",
    "ax.set_xticklabels(['tpr','1-fpr'])"
   ]
  }
 ],
 "metadata": {
  "kernelspec": {
   "display_name": "Python 3",
   "language": "python",
   "name": "python3"
  },
  "language_info": {
   "codemirror_mode": {
    "name": "ipython",
    "version": 3
   },
   "file_extension": ".py",
   "mimetype": "text/x-python",
   "name": "python",
   "nbconvert_exporter": "python",
   "pygments_lexer": "ipython3",
   "version": "3.7.7"
  }
 },
 "nbformat": 4,
 "nbformat_minor": 2
}
